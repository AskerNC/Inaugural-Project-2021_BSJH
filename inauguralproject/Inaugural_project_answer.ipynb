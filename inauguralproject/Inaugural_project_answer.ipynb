{
 "cells": [
  {
   "cell_type": "markdown",
   "id": "powerful-principal",
   "metadata": {},
   "source": [
    "# Inaugural project"
   ]
  },
  {
   "cell_type": "markdown",
   "id": "seasonal-toddler",
   "metadata": {},
   "source": [
    "## Defining dictionaries with parameter values"
   ]
  },
  {
   "cell_type": "code",
   "execution_count": 8,
   "id": "canadian-score",
   "metadata": {},
   "outputs": [
    {
     "name": "stdout",
     "output_type": "stream",
     "text": [
      "The autoreload extension is already loaded. To reload it, use:\n",
      "  %reload_ext autoreload\n"
     ]
    }
   ],
   "source": [
    "%load_ext autoreload\n",
    "%autoreload 2*\n",
    "%reload_ext autoreload"
   ]
  },
  {
   "cell_type": "code",
   "execution_count": 9,
   "id": "fundamental-cookbook",
   "metadata": {},
   "outputs": [],
   "source": [
    "params = {'phi': 0.3, 'tg': 0.012, 'tp': 0.004, 'pbar': 3, 'r':0.03, 'epsilon': 0.5 }\n",
    "params1 = params.copy()\n",
    "params1[\"epsilon\"] = 0.8\n",
    "params1[\"tg\"] = 0.01\n",
    "params1[\"tp\"] = 0.09\n",
    "params1[\"pbar\"] = 8\n"
   ]
  },
  {
   "cell_type": "markdown",
   "id": "impressed-failing",
   "metadata": {},
   "source": [
    "## Question 1"
   ]
  },
  {
   "cell_type": "markdown",
   "id": "separated-garage",
   "metadata": {},
   "source": [
    "Using the imported module, we can simply solve the consumer problem for given income and parameters:"
   ]
  },
  {
   "cell_type": "code",
   "execution_count": 10,
   "id": "approximate-broadcast",
   "metadata": {},
   "outputs": [
    {
     "data": {
      "text/plain": [
       "array([0.35003124, 4.16579877])"
      ]
     },
     "execution_count": 10,
     "metadata": {},
     "output_type": "execute_result"
    }
   ],
   "source": [
    "import Final_code\n",
    "Final_code.solve_func(0.5, params)"
   ]
  },
  {
   "cell_type": "markdown",
   "id": "coral-breed",
   "metadata": {},
   "source": [
    "This is in line with predictions from Cobb-Douglas preferences. They predict that consumption should be $c= (1-\\phi) m = 0.7 \\cdot 0.5=0.35$. If, as predicted in the simulation given $\\varepsilon p_h^* = 0.5 \\cdot 4.1658 =2.0829 <\\bar{p}=3 $, housing the below the bar of progressive taxation to affect the consumer, the predicted level of housiong is $h=\\frac{\\phi m}{r+\\varepsilon \\tau^g} = \\frac{0.3 \\cdot 0.5}{0.03+0.5\\cdot 0.012} =4.1667$"
   ]
  },
  {
   "cell_type": "markdown",
   "id": "competitive-nightmare",
   "metadata": {},
   "source": [
    "## Question 2"
   ]
  },
  {
   "cell_type": "markdown",
   "id": "configured-rental",
   "metadata": {},
   "source": [
    "Using this function - we can plot for different income levels - different values of m:"
   ]
  },
  {
   "cell_type": "code",
   "execution_count": 11,
   "id": "sound-makeup",
   "metadata": {},
   "outputs": [
    {
     "data": {
      "text/plain": [
       "<matplotlib.legend.Legend at 0x1f7d21c5d90>"
      ]
     },
     "execution_count": 11,
     "metadata": {},
     "output_type": "execute_result"
    },
    {
     "data": {
      "image/png": "[encoded data removed]",
      "text/plain": [
       "<Figure size 432x288 with 1 Axes>"
      ]
     },
     "metadata": {
      "needs_background": "light"
     },
     "output_type": "display_data"
    }
   ],
   "source": [
    "# Import relevant packages\n",
    "import numpy as np\n",
    "import matplotlib.pyplot as plt\n",
    "# Defining number of draws\n",
    "K=100\n",
    "# Draw list for variables:\n",
    "m_range = np.linspace(0.4,1.5,K) # vector between in 0 and 1\n",
    "#Solving the function\n",
    "solutions = [Final_code.solve_func(m, params) for m in m_range]\n",
    "c_range = [solutions[m][0] for m in range(0,len(m_range))]\n",
    "h_range = [solutions[m][1] for m in range(0,len(m_range))]\n",
    "#Define figure and ax\n",
    "fig = plt.figure()\n",
    "ax = fig.add_subplot(1,1,1)\n",
    "ax.plot(m_range, c_range, label = 'c')\n",
    "ax.plot(m_range, h_range, label = 'h')\n",
    "ax.set_xlabel('m')\n",
    "ax.set_ylabel('c,h')\n",
    "ax.legend()"
   ]
  },
  {
   "cell_type": "markdown",
   "id": "major-combination",
   "metadata": {},
   "source": [
    "Notably consumption increases linearly with income as determined by cobb-douglas preferences for constant prices. The slope is $1-\\phi$.  We see a shift in the plot for housing. This is the point, where the progressive tax starts to hit and the slope decreases since higher housing then results in higher prices. The slope before this point is $\\frac{\\phi}{r+\\tau^g \\varepsilon}$. Afterwards the slope is $\\frac{\\phi}{r+\\tau^g \\varepsilon+\\tau^p (\\varepsilon p_h^*-\\bar{p})}$ where $p_h^*$ is the problem solution for the housing price for this level of income. "
   ]
  },
  {
   "cell_type": "markdown",
   "id": "interested-exhibition",
   "metadata": {},
   "source": [
    "## Question 3"
   ]
  },
  {
   "cell_type": "markdown",
   "id": "hydraulic-vitamin",
   "metadata": {},
   "source": [
    "This problem can be solved by using the imported function from the Final_code.py file. This function both draws the income levels from seed 1 and solves the problem for these income levels. "
   ]
  },
  {
   "cell_type": "code",
   "execution_count": 12,
   "id": "cathedral-witness",
   "metadata": {},
   "outputs": [
    {
     "name": "stdout",
     "output_type": "stream",
     "text": [
      "[[0.83693479 9.43731972]\n",
      " [0.37883464 4.50791874]\n",
      " [0.39008916 4.64151781]\n",
      " ...\n",
      " [0.32904471 3.91636791]\n",
      " [0.45919011 5.4605795 ]\n",
      " [0.28368146 3.37686635]]\n",
      "[[0.83693479 0.37883464 0.39008916 ... 0.32904471 0.45919011 0.28368146]\n",
      " [9.43731972 4.50791874 4.64151781 ... 3.91636791 5.4605795  3.37686635]]\n"
     ]
    },
    {
     "data": {
      "text/plain": [
       "0.03631525121191543"
      ]
     },
     "execution_count": 12,
     "metadata": {},
     "output_type": "execute_result"
    }
   ],
   "source": [
    "Final_code.calc_rev(-0.4, 0.35, 10000, params)"
   ]
  },
  {
   "cell_type": "markdown",
   "id": "hollow-heart",
   "metadata": {},
   "source": [
    "## Question 4"
   ]
  },
  {
   "cell_type": "markdown",
   "id": "local-superior",
   "metadata": {},
   "source": [
    "This is similar to the previous question. It can simply be solved by using the imported function with a different parameter dictionary:"
   ]
  },
  {
   "cell_type": "code",
   "execution_count": 13,
   "id": "quality-samuel",
   "metadata": {},
   "outputs": [
    {
     "name": "stdout",
     "output_type": "stream",
     "text": [
      "[[0.82853003 9.34270811]\n",
      " [0.37881805 4.27109628]\n",
      " [0.39006968 4.39773986]\n",
      " ...\n",
      " [0.32903734 3.71043736]\n",
      " [0.45914557 5.17435273]\n",
      " [0.28367864 3.19921055]]\n",
      "[[0.82853003 0.37881805 0.39006968 ... 0.32903734 0.45914557 0.28367864]\n",
      " [9.34270811 4.27109628 4.39773986 ... 3.71043736 5.17435273 3.19921055]]\n"
     ]
    },
    {
     "data": {
      "text/plain": [
       "0.044689659458587806"
      ]
     },
     "execution_count": 13,
     "metadata": {},
     "output_type": "execute_result"
    }
   ],
   "source": [
    "Final_code.calc_rev(-0.4, 0.35, 10000, params1)"
   ]
  },
  {
   "cell_type": "markdown",
   "id": "egyptian-gathering",
   "metadata": {},
   "source": [
    "The result is noticeably higher under the new parameter values. In the next question, we solve for a base tax rate $\\tau$"
   ]
  },
  {
   "cell_type": "markdown",
   "id": "mounted-knight",
   "metadata": {},
   "source": [
    "## Question 5"
   ]
  },
  {
   "cell_type": "markdown",
   "id": "fitting-thursday",
   "metadata": {},
   "source": [
    "In order to solve this problem, we can just use an imported function from the Final_code.py file."
   ]
  },
  {
   "cell_type": "code",
   "execution_count": 14,
   "id": "responsible-mystery",
   "metadata": {},
   "outputs": [
    {
     "name": "stdout",
     "output_type": "stream",
     "text": [
      "Tax revenue under the first set of parameters: 0.03631525121191543\n",
      "Tax revenue under new set of parameters with solution base tax rate 0.03631525121191538\n",
      " Solution tax rate 0.008126097059270317\n"
     ]
    },
    {
     "data": {
      "text/plain": [
       "0.008126097059270317"
      ]
     },
     "execution_count": 14,
     "metadata": {},
     "output_type": "execute_result"
    }
   ],
   "source": [
    "Final_code.equal_value_solution(params, params1, -0.4, 0.35, 10000)"
   ]
  },
  {
   "cell_type": "markdown",
   "id": "trying-species",
   "metadata": {},
   "source": [
    "Thus the solution tax rate is equal to $\\tau^g=0.008126$"
   ]
  },
  {
   "cell_type": "markdown",
   "id": "played-victim",
   "metadata": {},
   "source": [
    "We could alternatively have iteratively lowered the tax rate a small amount until the difference between tax rates satisfied som maximum distance requirement"
   ]
  },
  {
   "cell_type": "code",
   "execution_count": null,
   "id": "nonprofit-hostel",
   "metadata": {},
   "outputs": [],
   "source": []
  }
 ],
 "metadata": {
  "kernelspec": {
   "display_name": "Python 3",
   "language": "python",
   "name": "python3"
  },
  "language_info": {
   "codemirror_mode": {
    "name": "ipython",
    "version": 3
   },
   "file_extension": ".py",
   "mimetype": "text/x-python",
   "name": "python",
   "nbconvert_exporter": "python",
   "pygments_lexer": "ipython3",
   "version": "3.8.5"
  },
  "toc-autonumbering": false
 },
 "nbformat": 4,
 "nbformat_minor": 5
}
